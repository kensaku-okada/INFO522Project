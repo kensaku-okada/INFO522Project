{
 "cells": [
  {
   "cell_type": "markdown",
   "metadata": {},
   "source": [
    "# Team NULL Data extractin from iNaturalist as JSON\n",
    "\n",
    "### Data source: \n",
    "'https://www.inaturalist.org/observations/ &lt;taxon_id&gt;.json <br>\n",
    "e.g. https://www.inaturalist.org/observations/8325975.json <br>\n",
    "(alternative way. we are discussing which is better) <br>\n",
    "http://api.inaturalist.org/v1/observations/8325975\n",
    "\n",
    "### Code Description:\n",
    "This is the first trial to get multiple data from iNaturalist. \n",
    "1. Aet taxon_IDs as list\n",
    "2. Get data as JSON by embedding these keys in the URL above\n",
    "3. Take part of the data by designating keys. \n",
    "\n",
    "### Reference\n",
    "<p>\n",
    "As a way to get data by JSON with API, we adopted Session <br>\n",
    "Reference: http://docs.python-requests.org/en/master/user/advanced/#session-objects <br>\n",
    "</p>\n",
    "<p>\n",
    "Markdown edit reference: <br>\n",
    "https://nbviewer.jupyter.org/github/jupyter/notebook/blob/master/docs/source/examples/Notebook/Working%20With%20Markdown%20Cells.ipynb <br>\n",
    "http://cartman0.hatenablog.com/entry/2015/03/31/034758 <br>\n",
    "https://qiita.com/junya/items/1d2ccbcbfea26d6dcbf0 <br>\n",
    "https://qiita.com/tbpgr/items/989c6badefff69377da7\n",
    "</p>"
   ]
  },
  {
   "cell_type": "code",
   "execution_count": 3,
   "metadata": {
    "collapsed": true
   },
   "outputs": [],
   "source": [
    "#Authors: Danielle, Kensaku, Alexander, Adrianna, Eddie\n",
    "\n",
    "\n",
    "from requests import Session\n",
    "import json\n",
    "session = Session()"
   ]
  },
  {
   "cell_type": "code",
   "execution_count": 2,
   "metadata": {},
   "outputs": [
    {
     "name": "stdout",
     "output_type": "stream",
     "text": [
      "[['37.8734016418', '-122.2649993896'], ['43.5279006958', '-80.2258987427'], ['-17.392057', '14.224052']]\n"
     ]
    }
   ],
   "source": [
    "#list to hold data\n",
    "latLngList = []\n",
    "\n",
    "#known working keys\n",
    "observations = ['2', '643', '10023']\n",
    "\n",
    "#loop to iterate through observation keys and pull data from given url\n",
    "#data is stored as a list in the latlong list\n",
    "for i in observations:\n",
    "    response = session.get('http://inaturalist.org/observations/' + str(i)+'.json')\n",
    "    jsonVar = json.loads(response.text)\n",
    "    latLngList.append([jsonVar[\"latitude\"], jsonVar[\"longitude\"]])\n",
    "\n",
    "print(latLngList)"
   ]
  },
  {
   "cell_type": "code",
   "execution_count": null,
   "metadata": {
    "collapsed": true
   },
   "outputs": [],
   "source": []
  },
  {
   "cell_type": "code",
   "execution_count": null,
   "metadata": {
    "collapsed": true
   },
   "outputs": [],
   "source": []
  },
  {
   "cell_type": "code",
   "execution_count": null,
   "metadata": {
    "collapsed": true
   },
   "outputs": [],
   "source": []
  }
 ],
 "metadata": {
  "kernelspec": {
   "display_name": "Python 3",
   "language": "python",
   "name": "python3"
  },
  "language_info": {
   "codemirror_mode": {
    "name": "ipython",
    "version": 3
   },
   "file_extension": ".py",
   "mimetype": "text/x-python",
   "name": "python",
   "nbconvert_exporter": "python",
   "pygments_lexer": "ipython3",
   "version": "3.6.2"
  }
 },
 "nbformat": 4,
 "nbformat_minor": 2
}
